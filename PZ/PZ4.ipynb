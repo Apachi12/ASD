{
"cells": [
 {
  "cell_type": "markdown",
  "id": "682f912d-6d2b-4d2c-be70-c514cffaafa7",
  "metadata": {},
  "source": [
   "---\n",
   "title: \"Практична робота №4. Алгоритми пошуку та їх складність\"\n",
   "description:\n",
   "   Документ зроблено за допомогою [Quarto](https://quarto.org/)\n",
   "author: \"&copy; [<span style='color: blue;'>Дзюба Данiiл Андрiйович </span>]\"\n",
   "date: \"29.05.2025\"\n",
   "lang: ukr\n",
   "format:\n",
   "  html:\n",
   "    code-fold: true\n",
   "    toc: true # меню\n",
   "    toc_float: # спливаюче меню  \n",
   "      collapsed: true # авто\n",
   "      number_sections: true\n",
   "jupyter: python3\n",
   "---"
  ]
 },
 {
  "cell_type": "markdown",
  "id": "0c9fb9cf-cf53-4595-9bd0-5fe08e279dec",
  "metadata": {},
  "source": [
   "# Вступ\n",
   "\n",
   "**Тема:** Алгоритми пошуку та їх складність\n",
   "\n",
   "**Мета:** опанувати основні алгоритми пошуку та навчитись методам аналізу їх асимптотичної складності."
  ]
 },
 {
  "cell_type": "markdown",
  "id": "be09263e-1af6-479e-87bc-cf78d5f6ca7d",
  "metadata": {},
  "source": [
   "# Хід роботи"
  ]
 },
 {
  "cell_type": "markdown",
  "id": "5738d213-5170-468a-8aa3-49bec8b5727b",
  "metadata": {},
  "source": [
   "## 1. Налаштування оточення"
  ]
 },
 {
  "cell_type": "code",
  "execution_count": null,
  "id": "import-libs",
  "metadata": {},
  "outputs": [],
  "source": [
   "import time\n",
   "import random\n",
   "import numpy as np\n",
   "import matplotlib.pyplot as plt\n",
   "%matplotlib inline"
  ]
 },
 {
  "cell_type": "markdown",
  "id": "f823d046-8070-4930-a6c6-d40b6ee8b24c",
  "metadata": {},
  "source": [
   "## 2. Реалізація алгоритмів пошуку"
  ]
 },
 {
  "cell_type": "markdown",
  "id": "bcabddd5-e891-4bea-bbe4-792974b0837c",
  "metadata": {},
  "source": [
   "### Лінійний пошук"
  ]
 },
 {
  "cell_type": "code",
  "execution_count": null,
  "id": "linear-search",
  "metadata": {},
  "outputs": [],
  "source": [
   "def linear_search(a_list, x):\n",
   "    \"\"\"Лінійний пошук елемента в списку\"\"\"\n",
   "    i, length = 0, len(a_list)\n",
   "    while i < length and x != a_list[i]:\n",
   "        i += 1\n",
   "    return i if i < length else -1"
  ]
 },
 {
  "cell_type": "markdown",
  "id": "682d877b-442a-43b9-a43a-22b4306a3df2",
  "metadata": {},
  "source": [
   "### Бінарний пошук"
  ]
 },
 {
  "cell_type": "code",
  "execution_count": null,
  "id": "binary-search",
  "metadata": {},
  "outputs": [],
  "source": [
   "def bin_search(a_list, x, left, right):\n",
   "    \"\"\"Бінарний пошук у відсортованому списку\"\"\"\n",
   "    if left > right or len(a_list) == 0:\n",
   "        return -1\n",
   "    middle = (left + right) // 2\n",
   "    if a_list[middle] == x:\n",
   "        return middle\n",
   "    elif a_list[middle] < x:\n",
   "        return bin_search(a_list, x, middle + 1, right)\n",
   "    else:\n",
   "        return bin_search(a_list, x, left, middle - 1)"
  ]
 },
 {
  "cell_type": "markdown",
  "id": "0b268daf-f5d0-41bd-9844-86bd32fcec46",
  "metadata": {},
  "source": [
   "### Тернарний пошук"
  ]
 },
 {
  "cell_type": "code",
  "execution_count": null,
  "id": "ternary-search",
  "metadata": {},
  "outputs": [],
  "source": [
   "def ternary_search(a_list, x, left, right):\n",
   "    \"\"\"Тернарний пошук у відсортованому списку\"\"\"\n",
   "    if left > right:\n",
   "        return -1\n",
   "    \n",
   "    mid1 = left + (right - left) // 3\n",
   "    mid2 = right - (right - left) // 3\n",
   "    \n",
   "    if a_list[mid1] == x:\n",
   "        return mid1\n",
   "    if a_list[mid2] == x:\n",
   "        return mid2\n",
   "    \n",
   "    if x < a_list[mid1]:\n",
   "        return ternary_search(a_list, x, left, mid1 - 1)\n",
   "    elif x > a_list[mid2]:\n",
   "        return ternary_search(a_list, x, mid2 + 1, right)\n",
   "    else:\n",
   "        return ternary_search(a_list, x, mid1 + 1, mid2 - 1)"
  ]
 },
 {
  "cell_type": "markdown",
  "id": "93bef238-c88b-41e6-aea2-f86891ec7996",
  "metadata": {},
  "source": [
   "## 3. Аналіз асимптотичної складності"
  ]
 },
 {
  "cell_type": "markdown",
  "id": "5db20fef-7463-4150-b7c6-16661d21a8a0",
  "metadata": {},
  "source": [
   "### Завдання 1: Асимптотична складність лінійного пошуку\n",
   "\n",
   "**Найгірший випадок:** O(n) - елемент знаходиться в кінці списку або відсутній\n",
   "\n",
   "**Найкращий випадок:** O(1) - елемент знаходиться на першій позиції\n",
   "\n",
   "**Покращення:** можна використовувати sentinel search або бар'єрний пошук для зменшення кількості перевірок."
  ]
 },
 {
  "cell_type": "markdown",
  "id": "task2-complexity",
  "metadata": {},
  "source": [
   "### Завдання 2: Асимптотична складність бінарного пошуку\n",
   "\n",
   "**Найгірший випадок:** O(log n) - елемент відсутній або знаходиться на останньому рівні поділу\n",
   "\n",
   "**Найкращий випадок:** O(1) - елемент знаходиться в центрі масиву"
  ]
 },
 {
  "cell_type": "markdown",
  "id": "task3-ternary",
  "metadata": {},
  "source": [
   "### Завдання 3: Тернарний пошук та порівняння з бінарним\n",
   "\n",
   "**Асимптотична складність тернарного пошуку:**\n",
   "- **Найгірший випадок:** O(log₃ n)\n",
   "- **Найкращий випадок:** O(1)\n",
   "\n",
   "**Порівняння:**\n",
   "- Бінарний: log₂ n порівнянь\n",
   "- Тернарний: log₃ n ітерацій, але 2 порівняння на ітерацію = 2×log₃ n порівнянь\n",
   "\n",
   "**Висновок:** Бінарний пошук оптимальніший, оскільки log₂ n < 2×log₃ n"
  ]
 },
 {
  "cell_type": "code",
  "execution_count": null,
  "id": "comparison-calc",
  "metadata": {},
  "outputs": [],
  "source": [
   "# Порівняння теоретичної кількості операцій\n",
   "import math\n",
   "\n",
   "n = 1000\n",
   "binary_ops = math.log2(n)\n",
   "ternary_ops = 2 * math.log(n, 3)\n",
   "\n",
   "print(f\"Для n={n}:\")\n",
   "print(f\"Бінарний пошук: {binary_ops:.2f} порівнянь\")\n",
   "print(f\"Тернарний пошук: {ternary_ops:.2f} порівнянь\")\n",
   "print(f\"Бінарний ефективніший на {ternary_ops/binary_ops:.2f} рази\")"
  ]
 },
 {
  "cell_type": "markdown",
  "id": "task4-experiment",
  "metadata": {},
  "source": [
   "## 4. Експериментальне дослідження"
  ]
 },
 {
  "cell_type": "code",
  "execution_count": null,
  "id": "performance-test",
  "metadata": {},
  "outputs": [],
  "source": [
   "def measure_time(func, *args):\n",
   "    \"\"\"Вимірювання часу виконання функції\"\"\"\n",
   "    start = time.time()\n",
   "    result = func(*args)\n",
   "    end = time.time()\n",
   "    return end - start, result\n",
   "\n",
   "# Розміри тестових даних\n",
   "sizes = [100, 500, 1000, 5000, 10000, 50000]\n",
   "linear_times = []\n",
   "binary_times = []\n",
   "ternary_times = []\n",
   "\n",
   "for size in sizes:\n",
   "    # Створення відсортованого списку\n",
   "    data = list(range(size))\n",
   "    target = size - 1  # Пошук останнього елемента (найгірший випадок)\n",
   "    \n",
   "    # Вимірювання часу для кожного алгоритму\n",
   "    time_linear, _ = measure_time(linear_search, data, target)\n",
   "    time_binary, _ = measure_time(bin_search, data, target, 0, size-1)\n",
   "    time_ternary, _ = measure_time(ternary_search, data, target, 0, size-1)\n",
   "    \n",
   "    linear_times.append(time_linear)\n",
   "    binary_times.append(time_binary)\n",
   "    ternary_times.append(time_ternary)\n",
   "\n",
   "print(\"Результати тестування:\")\n",
   "for i, size in enumerate(sizes):\n",
   "    print(f\"n={size}: Linear={linear_times[i]:.6f}s, Binary={binary_times[i]:.6f}s, Ternary={ternary_times[i]:.6f}s\")"
  ]
 },
 {
  "cell_type": "code",
  "execution_count": null,
  "id": "plot-results",
  "metadata": {},
  "outputs": [],
  "source": [
   "# Побудова графіків\n",
   "plt.figure(figsize=(12, 8))\n",
   "\n",
   "plt.subplot(2, 1, 1)\n",
   "plt.plot(sizes, linear_times, 'ro-', label='Лінійний пошук')\n",
   "plt.plot(sizes, binary_times, 'bo-', label='Бінарний пошук')\n",
   "plt.plot(sizes, ternary_times, 'go-', label='Тернарний пошук')\n",
   "plt.xlabel('Розмір списку')\n",
   "plt.ylabel('Час виконання (с)')\n",
   "plt.title('Порівняння алгоритмів пошуку')\n",
   "plt.legend()\n",
   "plt.grid(True)\n",
   "\n",
   "plt.subplot(2, 1, 2)\n",
   "plt.plot(sizes, binary_times, 'bo-', label='Бінарний пошук')\n",
   "plt.plot(sizes, ternary_times, 'go-', label='Тернарний пошук')\n",
   "plt.xlabel('Розмір списку')\n",
   "plt.ylabel('Час виконання (с)')\n",
   "plt.title('Порівняння бінарного та тернарного пошуку')\n",
   "plt.legend()\n",
   "plt.grid(True)\n",
   "\n",
   "plt.tight_layout()\n",
   "plt.show()"
  ]
 },
 {
  "cell_type": "markdown",
  "id": "task5-sorted",
  "metadata": {},
  "source": [
   "## 5. Аналіз впливу відсортованості"
  ]
 },
 {
  "cell_type": "code",
  "execution_count": null,
  "id": "sorted-analysis",
  "metadata": {},
  "outputs": [],
  "source": [
   "# Тестування на відсортованих та невідсортованих даних\n",
   "size = 10000\n",
   "sorted_data = list(range(size))\n",
   "unsorted_data = sorted_data.copy()\n",
   "random.shuffle(unsorted_data)\n",
   "\n",
   "target = size // 2\n",
   "\n",
   "# Лінійний пошук працює з будь-якими даними\n",
   "time_linear_sorted, _ = measure_time(linear_search, sorted_data, target)\n",
   "time_linear_unsorted, _ = measure_time(linear_search, unsorted_data, target)\n",
   "\n",
   "# Бінарний та тернарний працюють тільки з відсортованими\n",
   "time_binary_sorted, _ = measure_time(bin_search, sorted_data, target, 0, size-1)\n",
   "time_ternary_sorted, _ = measure_time(ternary_search, sorted_data, target, 0, size-1)\n",
   "\n",
   "print(f\"Результати для n={size}:\")\n",
   "print(f\"Лінійний (відсортований): {time_linear_sorted:.6f}s\")\n",
   "print(f\"Лінійний (невідсортований): {time_linear_unsorted:.6f}s\")\n",
   "print(f\"Бінарний (відсортований): {time_binary_sorted:.6f}s\")\n",
   "print(f\"Тернарний (відсортований): {time_ternary_sorted:.6f}s\")\n",
   "print(\"\\nБінарний та тернарний НЕ працюють з невідсортованими даними!\")"
  ]
 },
 {
  "cell_type": "markdown",
  "id": "task6-scenarios",
  "metadata": {},
  "source": [
   "## 6. Сценарії використання алгоритмів\n",
   "\n",
   "### Лінійний пошук:\n",
   "- Малі обсяги даних (n < 100)\n",
   "- Невідсортовані дані\n",
   "- Рідкі пошукові запити\n",
   "- Простота реалізації критична\n",
   "\n",
   "### Бінарний пошук:\n",
   "- Великі відсортовані масиви\n",
   "- Часті пошукові запити\n",
   "- Критична швидкість пошуку\n",
   "- Статичні або рідко змінювані дані\n",
   "\n",
   "### Тернарний пошук:\n",
   "- Спеціальні математичні застосування\n",
   "- Пошук екстремумів функцій\n",
   "- Теоретичний інтерес (практично рідко використовується)"
  ]
 },
 {
  "cell_type": "markdown",
  "id": "control-questions",
  "metadata": {},
  "source": [
   "# Відповіді на контрольні питання\n",
   "\n",
   "**1. Що таке алгоритм пошуку і чому він важливий?**\n",
   "\n",
   "Алгоритм пошуку - це послідовність дій для знаходження певного елемента в структурі даних. Важливий для ефективної роботи з великими обсягами інформації.\n",
   "\n",
   "**2. Основні критерії оцінки ефективності:**\n",
   "- Часова складність (кількість операцій)\n",
   "- Просторова складність (використання пам'яті)\n",
   "- Стабільність та простота реалізації\n",
   "\n",
   "**3. Лінійний пошук:**\n",
   "Послідовна перевірка кожного елемента списку від початку до кінця або до знаходження шуканого елемента.\n",
   "\n",
   "**4. Умови для бінарного пошуку:**\n",
   "- Дані повинні бути відсортовані\n",
   "- Можливість доступу до елементів за індексом\n",
   "\n",
   "**5. Переваги бінарного пошуку:**\n",
   "- Швидкість: O(log n)\n",
   "- Ефективність для великих даних\n",
   "\n",
   "Недоліки:\n",
   "- Потребує відсортованих даних\n",
   "- Складніша реалізація\n",
   "\n",
   "**6. Тернарний пошук:**\n",
   "Ділить масив на три частини замість двох. Менш ефективний через більшу кількість порівнянь на ітерацію."
  ]
 },
 {
  "cell_type": "markdown",
  "id": "conclusions",
  "metadata": {},
  "source": [
   "# Висновки\n",
   "\n",
   "У ході виконання практичної роботи було досліджено три алгоритми пошуку:\n",
   "\n",
   "1. **Лінійний пошук** має складність O(n), універсальний, але неефективний для великих даних.\n",
   "\n",
   "2. **Бінарний пошук** має складність O(log n), найефективніший для відсортованих даних.\n",
   "\n",
   "3. **Тернарний пошук** має складність O(log₃ n), але практично менш ефективний через більшу кількість порівнянь.\n",
   "\n",
   "Експериментальні дослідження підтвердили теоретичні розрахунки. Бінарний пошук показав найкращу продуктивність для відсортованих даних великого розміру.\n",
   "\n",
   "Вибір алгоритму залежить від:\n",
   "- Розміру даних\n",
   "- Частоти пошукових запитів  \n",
   "- Відсортованості даних\n",
   "- Вимог до швидкості виконання"
  ]
 }
],
"metadata": {
 "kernelspec": {
  "display_name": "Python 3",
  "language": "python",
  "name": "python3"
 },
 "language_info": {
  "codemirror_mode": {
   "name": "ipython",
   "version": 3
  },
  "file_extension": ".py",
  "mimetype": "text/x-python",
  "name": "python",
  "nbconvert_exporter": "python",
  "pygments_lexer": "ipython3",
  "version": "3.8.5"
 }
},
"nbformat": 4,
"nbformat_minor": 5
}