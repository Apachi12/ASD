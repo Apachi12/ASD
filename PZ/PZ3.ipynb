{
"cells": [
 {
  "cell_type": "raw",
  "id": "title-block",
  "metadata": {},
    "source": [
        "---\n",
        "title: \"Практична робота №3. Алгоритми сортування та їх складність. Порівняння алгоритмів сортування\"\n",
        "description:\n",
        "   Документ зроблено за допомогою [Quarto](https://quarto.org/)\n",
        "author: \"&copy; [<span style='color: blue;'>Дзюба Данiiл Андрiйович </span>]\"\n",
        "date: \"29.05.2025\"\n",
        "lang: ukr\n",
        "format:\n",
        "  html:\n",
        "    code-fold: true\n",
        "    toc: true\n",
        "    toc_float:\n",
        "      collapsed: true\n",
        "      number_sections: true\n",
        "jupyter: python3\n",
        "---"
    ]
 },
 {
  "cell_type": "markdown",
  "id": "intro",
  "metadata": {},
  "source": [
   "## Вступ\n",
   "\n",
   "**Тема:** Алгоритми сортування та їх складність. Порівняння алгоритмів сортування\n",
   "\n",
   "**Мета:** опанувати основні алгоритми сортування та навчитись методам аналізу їх асимптотичної складності."
  ]
 },
 {
  "cell_type": "markdown",
  "id": "setup",
  "metadata": {},
  "source": [
   "## Хід роботи\n",
   "\n",
   "### 1. Налаштування середовища"
  ]
 },
 {
  "cell_type": "code",
  "execution_count": null,
  "id": "imports",
  "metadata": {},
  "outputs": [],
  "source": [
   "import time\n",
   "import random\n",
   "import matplotlib.pyplot as plt\n",
   "import numpy as np"
  ]
 },
 {
  "cell_type": "markdown",
  "id": "task1",
  "metadata": {},
  "source": [
   "### 2. Завдання 1: Алгоритм бульбашкового сортування\n",
   "\n",
   "#### Реалізація алгоритму"
  ]
 },
 {
  "cell_type": "code",
  "execution_count": null,
  "id": "bubble-sort",
  "metadata": {},
  "outputs": [],
  "source": [
   "def bubble_sort(arr):\n",
   "    \"\"\"Сортування бульбашкою\"\"\"\n",
   "    n = len(arr)\n",
   "    for i in range(n):\n",
   "        swapped = False\n",
   "        for j in range(0, n - i - 1):\n",
   "            if arr[j] > arr[j + 1]:\n",
   "                arr[j], arr[j + 1] = arr[j + 1], arr[j]\n",
   "                swapped = True\n",
   "        if not swapped:\n",
   "            break\n",
   "    return arr\n",
   "\n",
   "# Тестування\n",
   "test_arr = [64, 34, 25, 12, 22, 11, 90]\n",
   "print(f\"Вихідний масив: {test_arr}\")\n",
   "sorted_arr = bubble_sort(test_arr.copy())\n",
   "print(f\"Відсортований масив: {sorted_arr}\")"
  ]
 },
 {
  "cell_type": "markdown",
  "id": "bubble-analysis",
  "metadata": {},
  "source": [
   "#### Аналіз асимптотичної складності бульбашкового сортування:\n",
   "\n",
   "- **Найгірший випадок:** O(n²) - коли масив відсортований у зворотному порядку\n",
   "- **Найкращий випадок:** O(n) - коли масив вже відсортований (з оптимізацією)\n",
   "- **Середній випадок:** O(n²)"
  ]
 },
 {
  "cell_type": "markdown",
  "id": "insertion-vs-bubble",
  "metadata": {},
  "source": [
   "#### Порівняння з сортуванням вставлянням\n",
   "\n",
   "| Алгоритм | Найкращий | Найгірший | Середній |\n",
   "|----------|-----------|-----------|----------|\n",
   "| Бульбашкове | O(n) | O(n²) | O(n²) |\n",
   "| Вставлянням | O(n) | O(n²) | O(n²) |\n",
   "\n",
   "**Висновок:** На практиці сортування вставлянням ефективніше через меншу кількість обмінів."
  ]
 },
 {
  "cell_type": "markdown",
  "id": "task2",
  "metadata": {},
  "source": [
   "### 3. Завдання 2: Аналіз сортування зливанням за основною теоремою рекурсії"
  ]
 },
 {
  "cell_type": "code",
  "execution_count": null,
  "id": "merge-sort",
  "metadata": {},
  "outputs": [],
  "source": [
   "def merge_sort(arr):\n",
   "    \"\"\"Сортування зливанням\"\"\"\n",
   "    if len(arr) <= 1:\n",
   "        return arr\n",
   "    \n",
   "    mid = len(arr) // 2\n",
   "    left = merge_sort(arr[:mid])\n",
   "    right = merge_sort(arr[mid:])\n",
   "    \n",
   "    return merge(left, right)\n",
   "\n",
   "def merge(left, right):\n",
   "    \"\"\"Злиття двох відсортованих масивів\"\"\"\n",
   "    result = []\n",
   "    i = j = 0\n",
   "    \n",
   "    while i < len(left) and j < len(right):\n",
   "        if left[i] <= right[j]:\n",
   "            result.append(left[i])\n",
   "            i += 1\n",
   "        else:\n",
   "            result.append(right[j])\n",
   "            j += 1\n",
   "    \n",
   "    result.extend(left[i:])\n",
   "    result.extend(right[j:])\n",
   "    return result"
  ]
 },
 {
  "cell_type": "markdown",
  "id": "merge-complexity",
  "metadata": {},
  "source": [
   "#### Застосування основної теореми рекурсії:\n",
   "\n",
   "Для merge sort: T(n) = 2T(n/2) + O(n)\n",
   "\n",
   "- a = 2 (кількість підзадач)\n",
   "- b = 2 (коефіцієнт зменшення розміру)\n",
   "- d = 1 (складність злиття)\n",
   "\n",
   "log_b(a) = log_2(2) = 1 = d\n",
   "\n",
   "За теоремою: **T(n) = O(n log n)**"
  ]
 },
 {
  "cell_type": "markdown",
  "id": "task3",
  "metadata": {},
  "source": [
   "### 4. Завдання 3: Швидке сортування"
  ]
 },
 {
  "cell_type": "code",
  "execution_count": null,
  "id": "quick-sort",
  "metadata": {},
  "outputs": [],
  "source": [
   "def quick_sort(arr):\n",
   "    \"\"\"Швидке сортування\"\"\"\n",
   "    if len(arr) <= 1:\n",
   "        return arr\n",
   "    \n",
   "    pivot = arr[len(arr) // 2]\n",
   "    left = [x for x in arr if x < pivot]\n",
   "    middle = [x for x in arr if x == pivot]\n",
   "    right = [x for x in arr if x > pivot]\n",
   "    \n",
   "    return quick_sort(left) + middle + quick_sort(right)\n",
   "\n",
   "# Тестування\n",
   "test_arr = [3, 6, 8, 10, 1, 2, 1]\n",
   "print(f\"Quick sort результат: {quick_sort(test_arr)}\")"
  ]
 },
 {
  "cell_type": "markdown",
  "id": "quick-complexity",
  "metadata": {},
  "source": [
   "#### Аналіз швидкого сортування за основною теоремою:\n",
   "\n",
   "**Найкращий випадок:** T(n) = 2T(n/2) + O(n)\n",
   "- Результат: **O(n log n)**\n",
   "\n",
   "**Найгірший випадок:** T(n) = T(n-1) + O(n)\n",
   "- Результат: **O(n²)**"
  ]
 },
 {
  "cell_type": "markdown",
  "id": "comparison",
  "metadata": {},
  "source": [
   "### 5. Порівняльний аналіз продуктивності"
  ]
 },
 {
  "cell_type": "code",
  "execution_count": null,
  "id": "performance-test",
  "metadata": {},
  "outputs": [],
  "source": [
   "def measure_time(sort_func, arr):\n",
   "    \"\"\"Вимірювання часу виконання\"\"\"\n",
   "    start = time.time()\n",
   "    sort_func(arr.copy())\n",
   "    return time.time() - start\n",
   "\n",
   "# Тестові дані різних розмірів\n",
   "sizes = [100, 500, 1000]\n",
   "algorithms = {\n",
   "    'Bubble Sort': bubble_sort,\n",
   "    'Merge Sort': merge_sort,\n",
   "    'Quick Sort': quick_sort\n",
   "}\n",
   "\n",
   "for size in sizes:\n",
   "    arr = [random.randint(1, 1000) for _ in range(size)]\n",
   "    print(f\"\\nРозмір масиву: {size}\")\n",
   "    for name, func in algorithms.items():\n",
   "        time_taken = measure_time(func, arr)\n",
   "        print(f\"{name}: {time_taken:.4f} сек\")"
  ]
 },
 {
  "cell_type": "markdown",
  "id": "control-questions",
  "metadata": {},
  "source": [
   "## Відповіді на контрольні питання\n",
   "\n",
   "### 1. Що таке асимптотична складність алгоритму сортування?\n",
   "\n",
   "Асимптотична складність - це оцінка швидкості зростання часу виконання алгоритму залежно від розміру вхідних даних. Вона важлива для порівняння ефективності алгоритмів при роботі з великими обсягами даних.\n",
   "\n",
   "### 2. Які алгоритми мають квадратичну складність?\n",
   "\n",
   "Квадратичну складність O(n²) у найгіршому випадку мають:\n",
   "- Сортування вибором\n",
   "- Сортування вставлянням\n",
   "- Бульбашкове сортування\n",
   "- Швидке сортування (найгірший випадок)\n",
   "\n",
   "### 3. Перевага сортування злиттям над вставками\n",
   "\n",
   "Сортування злиттям має гарантовану складність O(n log n), тоді як вставлянням - O(n²) у найгіршому випадку. Для великих даних це критично важливо.\n",
   "\n",
   "### 4. Алгоритми в стандартних бібліотеках\n",
   "\n",
   "- **Python:** Timsort (гібрид merge sort та insertion sort)\n",
   "- **Java:** Dual-Pivot Quicksort\n",
   "- **C++:** Introsort (гібрид quicksort, heapsort, insertion sort)\n",
   "\n",
   "### 5. Різниця між merge sort і quick sort\n",
   "\n",
   "- **Merge sort:** завжди O(n log n), стабільний, потребує додаткової пам'яті\n",
   "- **Quick sort:** в середньому O(n log n), сортування на місці, може деградувати до O(n²)\n",
   "\n",
   "### 6. Фактори вибору алгоритму\n",
   "\n",
   "- Розмір даних\n",
   "- Обмеження пам'яті\n",
   "- Стабільність сортування\n",
   "- Частково відсортовані дані\n",
   "- Вимоги до найгіршого випадку"
  ]
 },
 {
  "cell_type": "markdown",
  "id": "conclusions",
  "metadata": {},
  "source": [
   "## Висновки\n",
   "\n",
   "1. **Вивчено основні алгоритми сортування** та їх асимптотичну складність\n",
   "\n",
   "2. **Бульбашкове сортування** має складність O(n²) у найгіршому випадку та O(n) у найкращому з оптимізацією\n",
   "\n",
   "3. **Сортування злиттям** показує стабільну продуктивність O(n log n) завдяки стратегії \"розділяй і володарюй\"\n",
   "\n",
   "4. **Швидке сортування** ефективне в середньому (O(n log n)), але може деградувати до O(n²)\n",
   "\n",
   "5. **Основна теорема рекурсії** дозволяє ефективно аналізувати складність рекурсивних алгоритмів\n",
   "\n",
   "6. **Вибір алгоритму** залежить від специфіки задачі, розміру даних та обмежень системи\n",
   "\n",
   "Практична робота успішно виконана, мета досягнута."
  ]
 }
],
"metadata": {
 "kernelspec": {
  "display_name": "Python 3",
  "language": "python",
  "name": "python3"
 },
 "language_info": {
  "codemirror_mode": {
   "name": "ipython",
   "version": 3
  },
  "file_extension": ".py",
  "mimetype": "text/x-python",
  "name": "python",
  "nbconvert_exporter": "python",
  "pygments_lexer": "ipython3",
  "version": "3.8.5"
 }
},
"nbformat": 4,
"nbformat_minor": 5
}